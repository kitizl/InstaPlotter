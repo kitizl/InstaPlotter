{
 "cells": [
  {
   "cell_type": "code",
   "execution_count": 1,
   "metadata": {},
   "outputs": [],
   "source": [
    "import pandas as pd"
   ]
  },
  {
   "cell_type": "code",
   "execution_count": 3,
   "metadata": {},
   "outputs": [],
   "source": [
    "data = pd.read_csv(r'C:\\Users\\mange\\Desktop\\research\\moranis\\wparticle\\0001_0001_0001_0001_0001_20210723-0003.csv')"
   ]
  },
  {
   "cell_type": "code",
   "execution_count": 14,
   "metadata": {},
   "outputs": [],
   "source": [
    "for key in data.keys():\n",
    "    data[key] = pd.to_numeric(data[key],errors='coerce')"
   ]
  },
  {
   "cell_type": "code",
   "execution_count": 19,
   "metadata": {},
   "outputs": [],
   "source": [
    "data = data.dropna()"
   ]
  },
  {
   "cell_type": "code",
   "execution_count": 20,
   "metadata": {},
   "outputs": [
    {
     "data": {
      "text/html": [
       "<div>\n",
       "<style scoped>\n",
       "    .dataframe tbody tr th:only-of-type {\n",
       "        vertical-align: middle;\n",
       "    }\n",
       "\n",
       "    .dataframe tbody tr th {\n",
       "        vertical-align: top;\n",
       "    }\n",
       "\n",
       "    .dataframe thead th {\n",
       "        text-align: right;\n",
       "    }\n",
       "</style>\n",
       "<table border=\"1\" class=\"dataframe\">\n",
       "  <thead>\n",
       "    <tr style=\"text-align: right;\">\n",
       "      <th></th>\n",
       "      <th>Frequency</th>\n",
       "      <th>Channel A</th>\n",
       "      <th>Channel B</th>\n",
       "      <th>Channel C</th>\n",
       "      <th>Channel D</th>\n",
       "    </tr>\n",
       "  </thead>\n",
       "  <tbody>\n",
       "    <tr>\n",
       "      <th>1</th>\n",
       "      <td>0.000000</td>\n",
       "      <td>-31.68763</td>\n",
       "      <td>15.561360</td>\n",
       "      <td>17.202560</td>\n",
       "      <td>13.973300</td>\n",
       "    </tr>\n",
       "    <tr>\n",
       "      <th>2</th>\n",
       "      <td>0.030518</td>\n",
       "      <td>-39.08841</td>\n",
       "      <td>8.056942</td>\n",
       "      <td>9.685100</td>\n",
       "      <td>6.457352</td>\n",
       "    </tr>\n",
       "    <tr>\n",
       "      <th>3</th>\n",
       "      <td>0.061035</td>\n",
       "      <td>-48.91032</td>\n",
       "      <td>-7.788700</td>\n",
       "      <td>-6.255443</td>\n",
       "      <td>-9.455073</td>\n",
       "    </tr>\n",
       "    <tr>\n",
       "      <th>4</th>\n",
       "      <td>0.091553</td>\n",
       "      <td>-47.49132</td>\n",
       "      <td>-54.289570</td>\n",
       "      <td>-50.918240</td>\n",
       "      <td>-72.149610</td>\n",
       "    </tr>\n",
       "    <tr>\n",
       "      <th>5</th>\n",
       "      <td>0.122070</td>\n",
       "      <td>-50.24123</td>\n",
       "      <td>-58.514640</td>\n",
       "      <td>-43.320940</td>\n",
       "      <td>-74.694690</td>\n",
       "    </tr>\n",
       "    <tr>\n",
       "      <th>...</th>\n",
       "      <td>...</td>\n",
       "      <td>...</td>\n",
       "      <td>...</td>\n",
       "      <td>...</td>\n",
       "      <td>...</td>\n",
       "    </tr>\n",
       "    <tr>\n",
       "      <th>16380</th>\n",
       "      <td>499.847412</td>\n",
       "      <td>-81.95900</td>\n",
       "      <td>-87.106700</td>\n",
       "      <td>-74.627010</td>\n",
       "      <td>-77.377580</td>\n",
       "    </tr>\n",
       "    <tr>\n",
       "      <th>16381</th>\n",
       "      <td>499.877930</td>\n",
       "      <td>-77.58748</td>\n",
       "      <td>-80.082470</td>\n",
       "      <td>-67.367650</td>\n",
       "      <td>-83.687350</td>\n",
       "    </tr>\n",
       "    <tr>\n",
       "      <th>16382</th>\n",
       "      <td>499.908447</td>\n",
       "      <td>-74.50032</td>\n",
       "      <td>-74.014420</td>\n",
       "      <td>-66.584260</td>\n",
       "      <td>-83.706580</td>\n",
       "    </tr>\n",
       "    <tr>\n",
       "      <th>16383</th>\n",
       "      <td>499.938965</td>\n",
       "      <td>-70.99407</td>\n",
       "      <td>-75.163260</td>\n",
       "      <td>-71.582020</td>\n",
       "      <td>-72.247750</td>\n",
       "    </tr>\n",
       "    <tr>\n",
       "      <th>16384</th>\n",
       "      <td>499.969482</td>\n",
       "      <td>-60.52893</td>\n",
       "      <td>-68.966640</td>\n",
       "      <td>-58.559930</td>\n",
       "      <td>-58.385040</td>\n",
       "    </tr>\n",
       "  </tbody>\n",
       "</table>\n",
       "<p>16384 rows × 5 columns</p>\n",
       "</div>"
      ],
      "text/plain": [
       "        Frequency  Channel A  Channel B  Channel C  Channel D\n",
       "1        0.000000  -31.68763  15.561360  17.202560  13.973300\n",
       "2        0.030518  -39.08841   8.056942   9.685100   6.457352\n",
       "3        0.061035  -48.91032  -7.788700  -6.255443  -9.455073\n",
       "4        0.091553  -47.49132 -54.289570 -50.918240 -72.149610\n",
       "5        0.122070  -50.24123 -58.514640 -43.320940 -74.694690\n",
       "...           ...        ...        ...        ...        ...\n",
       "16380  499.847412  -81.95900 -87.106700 -74.627010 -77.377580\n",
       "16381  499.877930  -77.58748 -80.082470 -67.367650 -83.687350\n",
       "16382  499.908447  -74.50032 -74.014420 -66.584260 -83.706580\n",
       "16383  499.938965  -70.99407 -75.163260 -71.582020 -72.247750\n",
       "16384  499.969482  -60.52893 -68.966640 -58.559930 -58.385040\n",
       "\n",
       "[16384 rows x 5 columns]"
      ]
     },
     "execution_count": 20,
     "metadata": {},
     "output_type": "execute_result"
    }
   ],
   "source": [
    "data"
   ]
  },
  {
   "cell_type": "code",
   "execution_count": null,
   "metadata": {},
   "outputs": [],
   "source": []
  }
 ],
 "metadata": {
  "kernelspec": {
   "display_name": "Python 3",
   "language": "python",
   "name": "python3"
  },
  "language_info": {
   "codemirror_mode": {
    "name": "ipython",
    "version": 3
   },
   "file_extension": ".py",
   "mimetype": "text/x-python",
   "name": "python",
   "nbconvert_exporter": "python",
   "pygments_lexer": "ipython3",
   "version": "3.8.3"
  }
 },
 "nbformat": 4,
 "nbformat_minor": 4
}
